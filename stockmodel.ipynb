{
 "cells": [
  {
   "cell_type": "code",
   "execution_count": 4,
   "metadata": {},
   "outputs": [],
   "source": [
    "import csv\n",
    "import requests\n",
    "from pyspark.sql import SparkSession"
   ]
  },
  {
   "cell_type": "code",
   "execution_count": 2,
   "metadata": {},
   "outputs": [],
   "source": [
    "# replace the \"demo\" apikey below with your own key from https://www.alphavantage.co/support/#api-key\n",
    "CSV_URL = 'https://www.alphavantage.co/query?function=TIME_SERIES_INTRADAY_EXTENDED&symbol=IBM&interval=15min&slice=year1month1&apikey=BMKUL0QPLRBAX5L4'\n",
    "\n",
    "with requests.Session() as s:\n",
    "    download = s.get(CSV_URL)\n",
    "    decoded_content = download.content.decode('utf-8')\n",
    "    cr = csv.reader(decoded_content.splitlines(), delimiter=',')\n",
    "    my_list = list(cr)\n",
    "    csv_file= open('/home/hdoop/python_operation/Stock_Price_Prediction/stockData.csv', 'w')\n",
    "    csv_writer = csv.writer(csv_file, delimiter=\",\")\n",
    "    for row in my_list:\n",
    "        csv_writer.writerow(row)"
   ]
  },
  {
   "cell_type": "code",
   "execution_count": 5,
   "metadata": {},
   "outputs": [
    {
     "name": "stderr",
     "output_type": "stream",
     "text": [
      "Setting default log level to \"WARN\".\n",
      "To adjust logging level use sc.setLogLevel(newLevel). For SparkR, use setLogLevel(newLevel).\n",
      "2022-03-25 15:04:46,865 WARN util.NativeCodeLoader: Unable to load native-hadoop library for your platform... using builtin-java classes where applicable\n"
     ]
    }
   ],
   "source": [
    "spark=SparkSession.builder.appName('StockData').getOrCreate()"
   ]
  },
  {
   "cell_type": "code",
   "execution_count": 6,
   "metadata": {},
   "outputs": [
    {
     "name": "stderr",
     "output_type": "stream",
     "text": [
      "                                                                                \r"
     ]
    }
   ],
   "source": [
    "df = spark.read.csv(\"file:///home/hdoop/python_operation/Stock_Price_Prediction/stockData.csv\", header=True, inferSchema=True)"
   ]
  },
  {
   "cell_type": "code",
   "execution_count": 7,
   "metadata": {},
   "outputs": [
    {
     "name": "stdout",
     "output_type": "stream",
     "text": [
      "+-------------------+-------+-------+--------+--------+------+\n",
      "|               time|   open|   high|     low|   close|volume|\n",
      "+-------------------+-------+-------+--------+--------+------+\n",
      "|2022-03-23 19:45:00|  128.3|  128.3|   128.3|   128.3|   338|\n",
      "|2022-03-23 19:30:00| 128.11| 128.11|  128.11|  128.11|   100|\n",
      "|2022-03-23 17:45:00| 128.15| 128.31|  128.15|   128.3|   400|\n",
      "|2022-03-23 17:30:00| 128.11| 128.11|  128.11|  128.11|   203|\n",
      "|2022-03-23 17:00:00| 128.28| 128.28|  128.04|  128.13|  1855|\n",
      "|2022-03-23 16:30:00| 128.27| 128.27|  128.27|  128.27|   200|\n",
      "|2022-03-23 16:15:00|  128.3|  128.3|   128.3|   128.3|102926|\n",
      "|2022-03-23 16:00:00| 128.57| 128.62|  128.25|  128.27|341704|\n",
      "|2022-03-23 15:45:00| 128.88| 128.88|  128.46|  128.57|127691|\n",
      "|2022-03-23 15:30:00| 128.89| 128.97|  128.85|   128.9| 62496|\n",
      "|2022-03-23 15:15:00| 129.09| 129.22| 128.865|128.8797| 70395|\n",
      "|2022-03-23 15:00:00| 128.83|129.165|  128.78| 129.075|120857|\n",
      "|2022-03-23 14:45:00| 129.05| 129.06|  128.82|  128.82| 56879|\n",
      "|2022-03-23 14:30:00| 128.89| 129.06|  128.86|  129.05| 67135|\n",
      "|2022-03-23 14:15:00| 128.72| 128.98|   128.7|  128.88| 66174|\n",
      "|2022-03-23 14:00:00| 128.42| 128.74|128.3972|  128.72| 78406|\n",
      "|2022-03-23 13:45:00| 128.66| 128.66|  128.39|  128.42| 53332|\n",
      "|2022-03-23 13:30:00| 128.88| 128.93|  128.62|  128.68| 71254|\n",
      "|2022-03-23 13:15:00|  128.9| 128.97| 128.805|128.8724| 54849|\n",
      "|2022-03-23 13:00:00|128.755| 128.93|  128.66| 128.915| 43351|\n",
      "+-------------------+-------+-------+--------+--------+------+\n",
      "only showing top 20 rows\n",
      "\n"
     ]
    }
   ],
   "source": [
    "df.show()"
   ]
  },
  {
   "cell_type": "code",
   "execution_count": 8,
   "metadata": {},
   "outputs": [
    {
     "name": "stdout",
     "output_type": "stream",
     "text": [
      "root\n",
      " |-- time: string (nullable = true)\n",
      " |-- open: double (nullable = true)\n",
      " |-- high: double (nullable = true)\n",
      " |-- low: double (nullable = true)\n",
      " |-- close: double (nullable = true)\n",
      " |-- volume: integer (nullable = true)\n",
      "\n"
     ]
    }
   ],
   "source": [
    "df.printSchema()"
   ]
  },
  {
   "cell_type": "code",
   "execution_count": 9,
   "metadata": {},
   "outputs": [],
   "source": [
    "from pyspark.ml.linalg import Vectors\n",
    "from pyspark.ml.feature import VectorAssembler"
   ]
  },
  {
   "cell_type": "code",
   "execution_count": 10,
   "metadata": {},
   "outputs": [
    {
     "data": {
      "text/plain": [
       "['time', 'open', 'high', 'low', 'close', 'volume']"
      ]
     },
     "execution_count": 10,
     "metadata": {},
     "output_type": "execute_result"
    }
   ],
   "source": [
    "df.columns"
   ]
  },
  {
   "cell_type": "code",
   "execution_count": 11,
   "metadata": {},
   "outputs": [],
   "source": [
    "feature_cols = ['open','high','low']\n",
    "vect_assembler = VectorAssembler(inputCols= feature_cols, outputCol='features')"
   ]
  },
  {
   "cell_type": "code",
   "execution_count": 12,
   "metadata": {},
   "outputs": [
    {
     "name": "stdout",
     "output_type": "stream",
     "text": [
      "+--------------------------+--------+-------------------+\n",
      "|features                  |close   |time               |\n",
      "+--------------------------+--------+-------------------+\n",
      "|[128.3,128.3,128.3]       |128.3   |2022-03-23 19:45:00|\n",
      "|[128.11,128.11,128.11]    |128.11  |2022-03-23 19:30:00|\n",
      "|[128.15,128.31,128.15]    |128.3   |2022-03-23 17:45:00|\n",
      "|[128.11,128.11,128.11]    |128.11  |2022-03-23 17:30:00|\n",
      "|[128.28,128.28,128.04]    |128.13  |2022-03-23 17:00:00|\n",
      "|[128.27,128.27,128.27]    |128.27  |2022-03-23 16:30:00|\n",
      "|[128.3,128.3,128.3]       |128.3   |2022-03-23 16:15:00|\n",
      "|[128.57,128.62,128.25]    |128.27  |2022-03-23 16:00:00|\n",
      "|[128.88,128.88,128.46]    |128.57  |2022-03-23 15:45:00|\n",
      "|[128.89,128.97,128.85]    |128.9   |2022-03-23 15:30:00|\n",
      "|[129.09,129.22,128.865]   |128.8797|2022-03-23 15:15:00|\n",
      "|[128.83,129.165,128.78]   |129.075 |2022-03-23 15:00:00|\n",
      "|[129.05,129.06,128.82]    |128.82  |2022-03-23 14:45:00|\n",
      "|[128.89,129.06,128.86]    |129.05  |2022-03-23 14:30:00|\n",
      "|[128.72,128.98,128.7]     |128.88  |2022-03-23 14:15:00|\n",
      "|[128.42,128.74,128.3972]  |128.72  |2022-03-23 14:00:00|\n",
      "|[128.66,128.66,128.39]    |128.42  |2022-03-23 13:45:00|\n",
      "|[128.88,128.93,128.62]    |128.68  |2022-03-23 13:30:00|\n",
      "|[128.9,128.97,128.805]    |128.8724|2022-03-23 13:15:00|\n",
      "|[128.755,128.93,128.66]   |128.915 |2022-03-23 13:00:00|\n",
      "|[128.698,128.88,128.5]    |128.73  |2022-03-23 12:45:00|\n",
      "|[128.42,128.805,128.37]   |128.67  |2022-03-23 12:30:00|\n",
      "|[128.52,128.75,128.35]    |128.41  |2022-03-23 12:15:00|\n",
      "|[128.49,128.585,128.41]   |128.52  |2022-03-23 12:00:00|\n",
      "|[128.84,128.86,128.42]    |128.48  |2022-03-23 11:45:00|\n",
      "|[128.92,129.04,128.76]    |128.8281|2022-03-23 11:30:00|\n",
      "|[128.63,129.0,128.63]     |128.939 |2022-03-23 11:15:00|\n",
      "|[128.8689,128.91,128.5706]|128.66  |2022-03-23 11:00:00|\n",
      "|[128.9,129.0,128.74]      |128.87  |2022-03-23 10:45:00|\n",
      "|[129.0,129.11,128.75]     |128.93  |2022-03-23 10:30:00|\n",
      "|[128.93,129.14,128.775]   |128.96  |2022-03-23 10:15:00|\n",
      "|[128.595,129.27,128.57]   |128.93  |2022-03-23 10:00:00|\n",
      "|[129.08,129.32,128.53]    |128.6   |2022-03-23 09:45:00|\n",
      "|[129.0,129.0,129.0]       |129.0   |2022-03-23 08:30:00|\n",
      "|[128.41,128.41,128.41]    |128.41  |2022-03-23 08:15:00|\n",
      "|[129.0,129.0,129.0]       |129.0   |2022-03-23 07:15:00|\n",
      "|[128.58,128.58,128.58]    |128.58  |2022-03-23 06:45:00|\n",
      "|[128.51,129.37,128.51]    |129.37  |2022-03-23 04:15:00|\n",
      "|[129.3,129.3,129.06]      |129.06  |2022-03-22 20:00:00|\n",
      "|[129.25,129.3,129.25]     |129.3   |2022-03-22 19:45:00|\n",
      "|[129.06,129.14,129.06]    |129.14  |2022-03-22 16:15:00|\n",
      "|[128.99,129.3,128.89]     |129.08  |2022-03-22 16:00:00|\n",
      "|[128.885,129.05,128.84]   |128.99  |2022-03-22 15:45:00|\n",
      "|[128.91,129.01,128.85]    |128.87  |2022-03-22 15:30:00|\n",
      "|[128.78,128.925,128.7]    |128.89  |2022-03-22 15:15:00|\n",
      "|[128.79,128.85,128.69]    |128.78  |2022-03-22 15:00:00|\n",
      "|[128.735,128.83,128.69]   |128.81  |2022-03-22 14:45:00|\n",
      "|[128.86,128.8781,128.72]  |128.7442|2022-03-22 14:30:00|\n",
      "|[128.93,128.95,128.8495]  |128.85  |2022-03-22 14:15:00|\n",
      "|[128.83,128.99,128.8]     |128.92  |2022-03-22 14:00:00|\n",
      "|[128.86,128.89,128.71]    |128.835 |2022-03-22 13:45:00|\n",
      "|[128.96,129.0,128.73]     |128.84  |2022-03-22 13:30:00|\n",
      "|[129.06,129.08,128.83]    |128.98  |2022-03-22 13:15:00|\n",
      "|[128.69,129.05,128.65]    |129.04  |2022-03-22 13:00:00|\n",
      "|[128.55,128.87,128.49]    |128.7467|2022-03-22 12:45:00|\n",
      "|[128.49,128.62,128.445]   |128.56  |2022-03-22 12:30:00|\n",
      "|[128.465,128.54,128.34]   |128.49  |2022-03-22 12:15:00|\n",
      "|[128.03,128.4785,128.01]  |128.46  |2022-03-22 12:00:00|\n",
      "|[128.355,128.355,127.98]  |128.01  |2022-03-22 11:45:00|\n",
      "|[128.13,128.39,128.07]    |128.347 |2022-03-22 11:30:00|\n",
      "|[128.15,128.23,128.03]    |128.12  |2022-03-22 11:15:00|\n",
      "|[128.43,128.45,128.02]    |128.15  |2022-03-22 11:00:00|\n",
      "|[128.22,128.5079,127.9101]|128.439 |2022-03-22 10:45:00|\n",
      "|[128.21,128.3,127.99]     |128.2   |2022-03-22 10:30:00|\n",
      "|[128.47,128.49,128.1501]  |128.21  |2022-03-22 10:15:00|\n",
      "|[128.63,129.1699,128.47]  |128.47  |2022-03-22 10:00:00|\n",
      "|[128.5,128.89,127.85]     |128.7   |2022-03-22 09:45:00|\n",
      "|[128.55,128.55,128.55]    |128.55  |2022-03-22 09:30:00|\n",
      "|[128.1,128.1,128.1]       |128.1   |2022-03-22 09:00:00|\n",
      "|[128.3,128.3,128.3]       |128.3   |2022-03-22 08:30:00|\n",
      "|[128.54,128.54,128.54]    |128.54  |2022-03-22 08:15:00|\n",
      "|[128.69,128.69,128.69]    |128.69  |2022-03-22 06:30:00|\n",
      "|[128.44,128.44,128.44]    |128.44  |2022-03-21 19:00:00|\n",
      "|[128.11,128.11,128.11]    |128.11  |2022-03-21 18:45:00|\n",
      "|[128.36,128.36,128.36]    |128.36  |2022-03-21 17:00:00|\n",
      "|[128.55,128.55,128.55]    |128.55  |2022-03-21 16:30:00|\n",
      "|[128.1,128.1,128.1]       |128.1   |2022-03-21 16:15:00|\n",
      "|[127.83,128.14,127.74]    |128.1   |2022-03-21 16:00:00|\n",
      "|[127.89,127.92,127.75]    |127.85  |2022-03-21 15:45:00|\n",
      "|[127.79,127.93,127.5916]  |127.87  |2022-03-21 15:30:00|\n",
      "|[127.66,127.77,127.52]    |127.77  |2022-03-21 15:15:00|\n",
      "|[127.95,128.02,127.63]    |127.65  |2022-03-21 15:00:00|\n",
      "|[127.839,127.96,127.76]   |127.96  |2022-03-21 14:45:00|\n",
      "|[127.59,127.89,127.52]    |127.84  |2022-03-21 14:30:00|\n",
      "|[127.85,127.91,127.58]    |127.62  |2022-03-21 14:15:00|\n",
      "|[127.81,127.84,127.66]    |127.84  |2022-03-21 14:00:00|\n",
      "|[127.65,127.9,127.62]     |127.82  |2022-03-21 13:45:00|\n",
      "|[127.62,127.68,127.4]     |127.67  |2022-03-21 13:30:00|\n",
      "|[127.72,127.72,127.43]    |127.6   |2022-03-21 13:15:00|\n",
      "|[128.04,128.041,127.62]   |127.73  |2022-03-21 13:00:00|\n",
      "|[128.14,128.15,127.78]    |128.045 |2022-03-21 12:45:00|\n",
      "|[128.32,128.3895,128.15]  |128.15  |2022-03-21 12:30:00|\n",
      "|[128.0,128.35,127.89]     |128.31  |2022-03-21 12:15:00|\n",
      "|[127.86,128.02,127.75]    |128.0   |2022-03-21 12:00:00|\n",
      "|[128.205,128.27,127.8009] |127.84  |2022-03-21 11:45:00|\n",
      "|[128.145,128.4286,128.1]  |128.2   |2022-03-21 11:30:00|\n",
      "|[128.58,128.64,128.08]    |128.13  |2022-03-21 11:15:00|\n",
      "|[128.44,128.58,128.21]    |128.575 |2022-03-21 11:00:00|\n",
      "|[129.0,129.0027,128.42]   |128.42  |2022-03-21 10:45:00|\n",
      "|[128.65,129.05,128.61]    |129.03  |2022-03-21 10:30:00|\n",
      "+--------------------------+--------+-------------------+\n",
      "only showing top 100 rows\n",
      "\n"
     ]
    }
   ],
   "source": [
    "data_w_features = vect_assembler.transform(df)\n",
    "final_df = data_w_features.select('features','close','time')\n",
    "final_df.count()\n",
    "final_df.show(100, truncate=False)"
   ]
  },
  {
   "cell_type": "code",
   "execution_count": 13,
   "metadata": {},
   "outputs": [
    {
     "name": "stderr",
     "output_type": "stream",
     "text": [
      "[Stage 7:>                                                          (0 + 1) / 1]\r"
     ]
    },
    {
     "name": "stdout",
     "output_type": "stream",
     "text": [
      "+-------+------------------+-------------------+\n",
      "|summary|             close|               time|\n",
      "+-------+------------------+-------------------+\n",
      "|  count|               716|                716|\n",
      "|   mean|125.10263617318437|               null|\n",
      "| stddev|2.3900784816424303|               null|\n",
      "|    min|             119.1|2022-02-22 13:00:00|\n",
      "|    max|            129.37|2022-03-23 19:45:00|\n",
      "+-------+------------------+-------------------+\n",
      "\n"
     ]
    },
    {
     "name": "stderr",
     "output_type": "stream",
     "text": [
      "                                                                                \r"
     ]
    }
   ],
   "source": [
    "#train dataset-test dataset\n",
    "train_dataset, test_dataset = final_df.randomSplit([0.8, 0.2])\n",
    "train_dataset.describe().show()"
   ]
  },
  {
   "cell_type": "code",
   "execution_count": 14,
   "metadata": {},
   "outputs": [
    {
     "name": "stdout",
     "output_type": "stream",
     "text": [
      "+-------+------------------+-------------------+\n",
      "|summary|             close|               time|\n",
      "+-------+------------------+-------------------+\n",
      "|  count|               174|                174|\n",
      "|   mean|125.24062126436782|               null|\n",
      "| stddev|2.5031394096437283|               null|\n",
      "|    min|           119.435|2022-02-22 13:30:00|\n",
      "|    max|            137.24|2022-03-23 16:15:00|\n",
      "+-------+------------------+-------------------+\n",
      "\n"
     ]
    }
   ],
   "source": [
    "test_dataset.describe().show()"
   ]
  },
  {
   "cell_type": "code",
   "execution_count": 15,
   "metadata": {},
   "outputs": [
    {
     "name": "stderr",
     "output_type": "stream",
     "text": [
      "2022-03-25 15:05:48,088 WARN util.Instrumentation: [30ef2183] regParam is zero, which might cause numerical instability and overfitting.\n",
      "2022-03-25 15:05:48,337 WARN netlib.InstanceBuilder$NativeBLAS: Failed to load implementation from:dev.ludovic.netlib.blas.JNIBLAS\n",
      "2022-03-25 15:05:48,357 WARN netlib.InstanceBuilder$NativeBLAS: Failed to load implementation from:dev.ludovic.netlib.blas.ForeignLinkerBLAS\n",
      "2022-03-25 15:05:48,559 WARN netlib.InstanceBuilder$NativeLAPACK: Failed to load implementation from:dev.ludovic.netlib.lapack.JNILAPACK\n",
      "/home/hdoop/spark/spark-3.2.1-bin-hadoop3.2/python/pyspark/sql/context.py:125: FutureWarning: Deprecated in 3.0.0. Use SparkSession.builder.getOrCreate() instead.\n",
      "  warnings.warn(\n"
     ]
    },
    {
     "name": "stdout",
     "output_type": "stream",
     "text": [
      "+--------------------+--------+-------------------+------------------+\n",
      "|            features|   close|               time|        prediction|\n",
      "+--------------------+--------+-------------------+------------------+\n",
      "|[119.4,119.45,119.4]|  119.45|2022-02-24 07:45:00|119.45408299706213|\n",
      "|[119.43,119.47,11...|  119.47|2022-02-24 12:30:00|119.19297555315276|\n",
      "|[119.71,119.76,11...| 119.435|2022-02-24 12:15:00|119.51994556239669|\n",
      "| [121.2,121.5,121.2]|   121.5|2022-02-25 07:15:00|121.45665627572734|\n",
      "|[121.27,121.27,12...|  120.85|2022-03-01 10:45:00|120.85110719633417|\n",
      "|[121.3,121.38,120...| 120.895|2022-02-24 15:30:00|121.02155978464822|\n",
      "|[121.3687,121.580...|  121.42|2022-03-01 13:00:00| 121.4587236459615|\n",
      "|[121.5,121.5975,1...|121.5975|2022-03-02 08:45:00|121.58909729778256|\n",
      "|[121.505,122.23,1...|  121.88|2022-03-01 15:15:00|122.06827000477264|\n",
      "|[121.53,121.75,12...|  121.51|2022-02-28 15:15:00|121.57864069417585|\n",
      "|[121.55,122.02,12...|  121.72|2022-03-01 14:45:00|121.89114407861007|\n",
      "| [121.6,121.6,121.6]|   121.6|2022-03-02 09:15:00|121.60850859565303|\n",
      "| [121.7,121.8,121.7]|  121.75|2022-02-25 08:30:00|121.79076331427504|\n",
      "| [121.8,121.8,121.8]|   121.8|2022-03-02 08:00:00|121.80811330302208|\n",
      "|[121.83,121.94,12...|  121.71|2022-02-28 13:45:00|121.76378324433813|\n",
      "|[121.87,122.6,121.8]|122.5687|2022-02-28 10:45:00|  122.424887759238|\n",
      "|[121.88,121.88,12...|  121.88|2022-02-23 17:45:00|121.88795518596973|\n",
      "|[121.88,122.1799,...|  121.68|2022-03-01 10:15:00|121.85242691489626|\n",
      "| [121.9,121.9,121.9]|   121.9|2022-02-25 09:30:00|121.90791565670665|\n",
      "|[121.96,121.96,12...|  121.96|2022-02-24 16:45:00|121.96779706891735|\n",
      "+--------------------+--------+-------------------+------------------+\n",
      "only showing top 20 rows\n",
      "\n"
     ]
    }
   ],
   "source": [
    "#importing linear regression module\n",
    "from pyspark.ml.regression import LinearRegression\n",
    "\n",
    "LinReg = LinearRegression(featuresCol=\"features\", labelCol=\"close\")\n",
    "\n",
    "#Train the model on the training using fit() method\n",
    "model = LinReg.fit(train_dataset)\n",
    "\n",
    "pred = model.evaluate(test_dataset)\n",
    "\n",
    "pred.predictions.show(20)"
   ]
  },
  {
   "cell_type": "code",
   "execution_count": 16,
   "metadata": {},
   "outputs": [
    {
     "name": "stderr",
     "output_type": "stream",
     "text": [
      "/home/hdoop/spark/spark-3.2.1-bin-hadoop3.2/python/pyspark/sql/context.py:125: FutureWarning: Deprecated in 3.0.0. Use SparkSession.builder.getOrCreate() instead.\n",
      "  warnings.warn(\n"
     ]
    },
    {
     "data": {
      "text/plain": [
       "<matplotlib.legend.Legend at 0x7fa02e11e700>"
      ]
     },
     "execution_count": 16,
     "metadata": {},
     "output_type": "execute_result"
    },
    {
     "data": {
      "image/png": "[encoded data removed]",
      "text/plain": [
       "<Figure size 432x288 with 1 Axes>"
      ]
     },
     "metadata": {
      "needs_background": "light"
     },
     "output_type": "display_data"
    }
   ],
   "source": [
    "import pandas as pd\n",
    "import matplotlib.pyplot as plt\n",
    "panda_df = pred.predictions.toPandas()\n",
    "plt.plot(panda_df['prediction'])\n",
    "plt.plot(panda_df['close'])\n",
    "plt.legend(['Prediction','close'])"
   ]
  },
  {
   "cell_type": "code",
   "execution_count": 17,
   "metadata": {},
   "outputs": [
    {
     "name": "stdout",
     "output_type": "stream",
     "text": [
      "The coefficient of the model is : DenseVector([-0.6121, 0.8245, 0.7856])\n",
      "The Intercept of the Model is: 0.248847\n"
     ]
    }
   ],
   "source": [
    "#finding out the coefficients\n",
    "\n",
    "print(\"The coefficient of the model is : %a\" %model.coefficients)\n",
    "print(\"The Intercept of the Model is: %f\" %model.intercept)"
   ]
  },
  {
   "cell_type": "code",
   "execution_count": 18,
   "metadata": {},
   "outputs": [
    {
     "name": "stderr",
     "output_type": "stream",
     "text": [
      "/home/hdoop/spark/spark-3.2.1-bin-hadoop3.2/python/pyspark/sql/context.py:125: FutureWarning: Deprecated in 3.0.0. Use SparkSession.builder.getOrCreate() instead.\n",
      "  warnings.warn(\n"
     ]
    },
    {
     "name": "stdout",
     "output_type": "stream",
     "text": [
      "RMSE: 0.126\n",
      "MSE: 0.016\n",
      "MAE: 0.077\n",
      "R-squared(r2): 0.997\n"
     ]
    }
   ],
   "source": [
    "#finding out various errors\n",
    "\n",
    "from pyspark.ml.evaluation import RegressionEvaluator \n",
    "\n",
    "evaluation = RegressionEvaluator(labelCol=\"close\", predictionCol=\"prediction\")\n",
    "\n",
    "#Root Mean Square Error\n",
    "rmse = evaluation.evaluate(pred.predictions, {evaluation.metricName: \"rmse\"})\n",
    "print(\"RMSE: %.3f\" % rmse)\n",
    "\n",
    "#Mean Square Error\n",
    "mse = evaluation.evaluate(pred.predictions, {evaluation.metricName: \"mse\"})\n",
    "print(\"MSE: %.3f\" %mse)\n",
    "\n",
    "#Mean Absolute Error\n",
    "mae = evaluation.evaluate(pred.predictions, {evaluation.metricName: \"mae\"})\n",
    "print(\"MAE: %.3f\" %mae)\n",
    "\n",
    "#r2 - coefficient of determination\n",
    "r2 = evaluation.evaluate(pred.predictions, {evaluation.metricName: \"r2\"})\n",
    "print(\"R-squared(r2): %.3f\" %r2)"
   ]
  },
  {
   "cell_type": "code",
   "execution_count": 19,
   "metadata": {},
   "outputs": [],
   "source": [
    "hdfs_predicted_df = pred.predictions"
   ]
  },
  {
   "cell_type": "code",
   "execution_count": 20,
   "metadata": {},
   "outputs": [
    {
     "name": "stderr",
     "output_type": "stream",
     "text": [
      "                                                                                \r"
     ]
    }
   ],
   "source": [
    "# saving the trained model to hadoop\n",
    "model.save(\"hdfs://localhost:9000/Stock_Prediction/prediction_model\")\n",
    "\n",
    "#saving the test dataset model to hadoop in parquet format for compressed storage\n",
    "test_dataset.write.parquet(\"hdfs://localhost:9000/Stock_Prediction/test_datases\")\n",
    "\n",
    "#saving the result dataset on hdfs after testing in parquet format for compressesd storage\n",
    "hdfs_predicted_df.write.parquet(\"hdfs://localhost:9000/Stock_Prediction/Clean_Predicted_Data\")\n",
    "\n",
    "#saving the model to local\n",
    "model.save(\"/home/hdoop/python_operation/Stock_Price_Prediction\")"
   ]
  },
  {
   "cell_type": "code",
   "execution_count": 21,
   "metadata": {},
   "outputs": [],
   "source": [
    "# saving the trained model to hadoop\n",
    "model.save(\"file:///home/hdoop/python_operation/Stock_Price_Prediction/prediction_model\")\n",
    "\n",
    "#saving the test dataset model to hadoop in parquet format for compressed storage\n",
    "test_dataset.write.parquet(\"file:///home/hdoop/python_operation/Stock_Price_Prediction/test_datases\")\n",
    "\n",
    "#saving the result dataset on hdfs after testing in parquet format for compressesd storage\n",
    "hdfs_predicted_df.write.parquet(\"file:///home/hdoop/python_operation/Stock_Price_Prediction/Clean_Predicted_Data\")\n",
    "\n",
    "#saving the model to local\n",
    "model.save(\"file:///home/hdoop/python_operation/Stock_Price_Prediction/model\")"
   ]
  }
 ],
 "metadata": {
  "interpreter": {
   "hash": "916dbcbb3f70747c44a77c7bcd40155683ae19c65e1c03b4aa3499c5328201f1"
  },
  "kernelspec": {
   "display_name": "Python 3.8.10 64-bit",
   "language": "python",
   "name": "python3"
  },
  "language_info": {
   "codemirror_mode": {
    "name": "ipython",
    "version": 3
   },
   "file_extension": ".py",
   "mimetype": "text/x-python",
   "name": "python",
   "nbconvert_exporter": "python",
   "pygments_lexer": "ipython3",
   "version": "3.8.10"
  },
  "orig_nbformat": 4
 },
 "nbformat": 4,
 "nbformat_minor": 2
}
